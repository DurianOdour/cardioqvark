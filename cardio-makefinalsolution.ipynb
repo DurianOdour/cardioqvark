{
 "cells": [
  {
   "cell_type": "code",
   "execution_count": 1,
   "metadata": {
    "collapsed": false
   },
   "outputs": [
    {
     "name": "stdout",
     "output_type": "stream",
     "text": [
      "Populating the interactive namespace from numpy and matplotlib\n"
     ]
    }
   ],
   "source": [
    "import sklearn as sk\n",
    "import pandas as pd\n",
    "import numpy as np\n",
    "import pylab as pl\n",
    "import matplotlib as mpl\n",
    "%matplotlib inline\n",
    "%pylab inline"
   ]
  },
  {
   "cell_type": "code",
   "execution_count": 2,
   "metadata": {
    "collapsed": true
   },
   "outputs": [],
   "source": [
    "# каталол с файлами\n",
    "catalog = '.\\\\'\n",
    "# D:\\\\Competitions\\\\Cardioqvark_final\\\\"
   ]
  },
  {
   "cell_type": "markdown",
   "metadata": {},
   "source": [
    "## загрузка матриц объект-признак"
   ]
  },
  {
   "cell_type": "code",
   "execution_count": 3,
   "metadata": {
    "collapsed": false
   },
   "outputs": [
    {
     "name": "stdout",
     "output_type": "stream",
     "text": [
      "(100, 17)\n",
      "(100,)\n",
      "(250, 17)\n",
      "(250,)\n"
     ]
    }
   ],
   "source": [
    "X = pd.read_csv(catalog + 'features_temp1.txt', sep=',', header=None)\n",
    "X2 = pd.read_csv(catalog + 'features_temp2.txt', sep=',', header=None)\n",
    "y = X[X.columns[0]]\n",
    "y2 = X2[X2.columns[0]]\n",
    "del X[X.columns[0]]\n",
    "del X2[X2.columns[0]]\n",
    "print (X.shape)\n",
    "print (y.shape)\n",
    "print (X2.shape)\n",
    "print (y2.shape)\n",
    "#X.columns = ['temp'+str(i+1) for i in range(X.shape[1])]"
   ]
  },
  {
   "cell_type": "code",
   "execution_count": 4,
   "metadata": {
    "collapsed": false
   },
   "outputs": [
    {
     "name": "stdout",
     "output_type": "stream",
     "text": [
      "(100, 39)\n",
      "(100,)\n",
      "(250, 39)\n",
      "(250,)\n"
     ]
    }
   ],
   "source": [
    "# дозагрузка всех матриц\n",
    "\n",
    "Xt = pd.read_csv(catalog + 'features_tempsf1.txt', sep=',', header=None)\n",
    "X2t = pd.read_csv(catalog + 'features_tempsf2.txt', sep=',', header=None)\n",
    "del Xt[Xt.columns[0]]\n",
    "del X2t[X2t.columns[0]]\n",
    "\n",
    "#Xt.columns = ['tempsf'+str(i+1) for i in range(Xt.shape[1])]\n",
    "\n",
    "X = pd.concat([X,Xt], axis=1)\n",
    "X2 = pd.concat([X2,X2t], axis=1)\n",
    "\n",
    "Xt = pd.read_csv(catalog + 'features_tempfftabsdiff1.txt', sep=',', header=None)\n",
    "X2t = pd.read_csv(catalog + 'features_tempfftabsdiff2.txt', sep=',', header=None)\n",
    "del Xt[Xt.columns[0]]\n",
    "del X2t[X2t.columns[0]]\n",
    "\n",
    "#Xt.columns = ['tempfftabsdiff'+str(i+1) for i in range(Xt.shape[1])]\n",
    "\n",
    "X = pd.concat([X,Xt], axis=1)\n",
    "X2 = pd.concat([X2,X2t], axis=1)\n",
    "\n",
    "\n",
    "Xt = pd.read_csv(catalog + 'features_temp_allrand1.txt', sep=',', header=None)\n",
    "X2t = pd.read_csv(catalog + 'features_temp_allrand2.txt', sep=',', header=None)\n",
    "del Xt[Xt.columns[0]]\n",
    "del X2t[X2t.columns[0]]\n",
    "\n",
    "#Xt.columns = ['temp_allrand'+str(i+1) for i in range(Xt.shape[1])]\n",
    "\n",
    "X = pd.concat([X,Xt], axis=1)\n",
    "X2 = pd.concat([X2,X2t], axis=1)\n",
    "\n",
    "print (X.shape)\n",
    "print (y.shape)\n",
    "print (X2.shape)\n",
    "print (y2.shape)"
   ]
  },
  {
   "cell_type": "code",
   "execution_count": 5,
   "metadata": {
    "collapsed": false
   },
   "outputs": [],
   "source": [
    "import warnings\n",
    "warnings.filterwarnings(\"ignore\")"
   ]
  },
  {
   "cell_type": "markdown",
   "metadata": {},
   "source": [
    "## обучение + классификация + сохранение решения"
   ]
  },
  {
   "cell_type": "code",
   "execution_count": 6,
   "metadata": {
    "collapsed": false
   },
   "outputs": [],
   "source": [
    "from sklearn.ensemble import GradientBoostingRegressor\n",
    "classifier = GradientBoostingRegressor(n_estimators=1000, learning_rate=0.01, \\\n",
    "                                       max_depth=2, random_state=100, loss='ls')\n",
    "\n",
    "features = [0, 1, 2, 3, 4, 5, 6, 8, 9, 12, 13, 15, 16, 17, 18, 19, 21, 22, 23, 24, 25, 26, 27, 28, 29, 30, 31, 32, 33, 34, 35, 36, 37, 38]\n",
    "\n",
    "classifier.fit(X.values[:,features], y.values)\n",
    "a = classifier.predict(X2.values[:,features])"
   ]
  },
  {
   "cell_type": "code",
   "execution_count": 7,
   "metadata": {
    "collapsed": false
   },
   "outputs": [],
   "source": [
    "df = pd.DataFrame({'myans':a})\n",
    "df.to_csv('myans_tmp.csv')"
   ]
  }
 ],
 "metadata": {
  "kernelspec": {
   "display_name": "Python 3",
   "language": "python",
   "name": "python3"
  },
  "language_info": {
   "codemirror_mode": {
    "name": "ipython",
    "version": 3
   },
   "file_extension": ".py",
   "mimetype": "text/x-python",
   "name": "python",
   "nbconvert_exporter": "python",
   "pygments_lexer": "ipython3",
   "version": "3.5.0"
  }
 },
 "nbformat": 4,
 "nbformat_minor": 0
}
